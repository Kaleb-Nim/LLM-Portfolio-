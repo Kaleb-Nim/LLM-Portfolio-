{
 "cells": [
  {
   "cell_type": "code",
   "execution_count": 3,
   "metadata": {},
   "outputs": [
    {
     "name": "stderr",
     "output_type": "stream",
     "text": [
      "c:\\Users\\stu-kalebnim\\Documents\\GitHub\\LLM-Portfolio-\\venv\\lib\\site-packages\\pinecone\\index.py:4: TqdmWarning: IProgress not found. Please update jupyter and ipywidgets. See https://ipywidgets.readthedocs.io/en/stable/user_install.html\n",
      "  from tqdm.autonotebook import tqdm\n"
     ]
    }
   ],
   "source": [
    "import autogen\n",
    "import time\n",
    "from typing import Any, Dict, List, Optional, Union,Tuple,Callable\n",
    "import os \n",
    "from dotenv import load_dotenv\n",
    "import openai\n",
    "\n",
    "from PineconeUtils.Query import PineconeQuery"
   ]
  },
  {
   "cell_type": "markdown",
   "metadata": {},
   "source": [
    "## Load the env variables\n",
    "\n",
    "Using OAI_CONFIG_LIST"
   ]
  },
  {
   "cell_type": "code",
   "execution_count": 4,
   "metadata": {},
   "outputs": [
    {
     "data": {
      "text/plain": [
       "True"
      ]
     },
     "execution_count": 4,
     "metadata": {},
     "output_type": "execute_result"
    }
   ],
   "source": [
    "vaild = load_dotenv()\n",
    "\n",
    "# Access the variables\n",
    "OPENAI_API_KEY = os.getenv(\"OPENAI_API_KEY\")\n",
    "PINECONE_API_KEY = os.getenv(\"PINECONE_API_KEY\")\n",
    "INDEX_NAME = os.getenv(\"PINECONE_INDEX_NAME\")\n",
    "PINECONE_ENVIRONMENT= os.getenv(\"PINECONE_ENVIRONMENT\")\n",
    "\n",
    "# openai.api_key = OPENAI_API_KEY\n",
    "os.environ[\"OPENAI_API_KEY\"] = OPENAI_API_KEY\n",
    "os.environ[\"AZURE_OPENAI_API_KEY\"] = os.environ.get(\"API_KEY\")\n",
    "os.environ[\"AZURE_OPENAI_API_BASE\"] = os.environ.get(\"API_BASE\")\n",
    "vaild"
   ]
  },
  {
   "cell_type": "markdown",
   "metadata": {},
   "source": [
    "# Testing the pinecone class "
   ]
  },
  {
   "cell_type": "code",
   "execution_count": 5,
   "metadata": {},
   "outputs": [
    {
     "data": {
      "text/plain": [
       "('e29e7cc3-4e0e-45a2-8939-358f3ad68ee8', 'kaleb', 'us-west1-gcp-free')"
      ]
     },
     "execution_count": 5,
     "metadata": {},
     "output_type": "execute_result"
    }
   ],
   "source": [
    "PINECONE_API_KEY,INDEX_NAME,PINECONE_ENVIRONMENT"
   ]
  },
  {
   "cell_type": "code",
   "execution_count": 6,
   "metadata": {},
   "outputs": [
    {
     "name": "stdout",
     "output_type": "stream",
     "text": [
      "Connecting to Pinecone Index: kaleb,Pinecone Environment: us-west1-gcp-free,Pinecone API Key: e29e7cc3-4e0e-45a2-8939-358f3ad68ee8\n",
      "Successfully connected to Pinecone Index:\n",
      "{'dimension': 1536,\n",
      " 'index_fullness': 0.0,\n",
      " 'namespaces': {'': {'vector_count': 1},\n",
      "                'experience': {'vector_count': 6},\n",
      "                'personal': {'vector_count': 6}},\n",
      " 'total_vector_count': 13},took 1.0656001567840576 seconds\n"
     ]
    },
    {
     "data": {
      "text/plain": [
       "<PineconeUtils.Query.PineconeQuery at 0x1cea25e13c0>"
      ]
     },
     "execution_count": 6,
     "metadata": {},
     "output_type": "execute_result"
    }
   ],
   "source": [
    "pineconeQuery = PineconeQuery(PINECONE_API_KEY,PINECONE_ENVIRONMENT,INDEX_NAME=INDEX_NAME)\n",
    "pineconeQuery"
   ]
  },
  {
   "cell_type": "markdown",
   "metadata": {},
   "source": [
    "# Get a simple Orchestrator"
   ]
  },
  {
   "cell_type": "code",
   "execution_count": null,
   "metadata": {},
   "outputs": [],
   "source": []
  },
  {
   "cell_type": "markdown",
   "metadata": {},
   "source": [
    "# Writing a Custom PineconeAgent "
   ]
  },
  {
   "cell_type": "code",
   "execution_count": 9,
   "metadata": {},
   "outputs": [],
   "source": [
    "class PineconeAgent(autogen.ConversableAgent):\n",
    "    \"\"\"ConversableAgent with added functionalities of using pineconeQuery class as functions to perform tasks\"\"\"\n",
    "\n",
    "    def __init__(self,pineconeQuery:PineconeQuery,llm_config,DecisionMaker: autogen.AssistantAgent):\n",
    "        \n",
    "        super().__init__(\n",
    "            name = \"PineconeAgent\",\n",
    "            system_message = \"Able to use the PineconeQuery class to generate code and query the pinecone index, referencing the pineconeQuery methods\",\n",
    "            human_input_mode = \"NEVER\",\n",
    "            code_execution_config = False,\n",
    "            llm_config = llm_config,\n",
    "        )\n",
    "        self.pineconeQuery = pineconeQuery\n",
    "\n",
    "        self.register_reply(BoardAgent, PineconeAgent._generatePineconeCode_reply, config=board_agent.board)\n",
    "        self.register_reply(ChessPlayerAgent, ChessPlayerAgent._generate_reply_for_player, config=board_agent)\n",
    "        self.update_max_consecutive_auto_reply(board_agent.max_consecutive_auto_reply(), board_agent)\n",
    "    \n",
    "    def _generatePineconeCode_reply()"
   ]
  },
  {
   "cell_type": "markdown",
   "metadata": {},
   "source": [
    "## defining code excecutor "
   ]
  },
  {
   "cell_type": "code",
   "execution_count": 8,
   "metadata": {},
   "outputs": [],
   "source": [
    "executor = autogen.UserProxyAgent(\n",
    "    name=\"Executor\",\n",
    "    system_message=\"Executor. Execute the code written by the engineer and report the result.\",\n",
    "    human_input_mode=\"NEVER\",\n",
    "    code_execution_config={\"last_n_messages\": 3, \"work_dir\": \"paper\"},\n",
    ")"
   ]
  },
  {
   "cell_type": "code",
   "execution_count": null,
   "metadata": {},
   "outputs": [],
   "source": [
    "DecisionMaker = autogen.AssistantAgent(\n",
    "    name=\"DecisionMaker\",\n",
    "    system_message=\"\"\"You are the decision maker, based on the initial user input, decide which agent to call. PineconeAgent or xxx \n",
    "    If none of the agents functionality matches with the user input, Ask\"\"\"\n",
    ")"
   ]
  }
 ],
 "metadata": {
  "kernelspec": {
   "display_name": "venv",
   "language": "python",
   "name": "python3"
  },
  "language_info": {
   "codemirror_mode": {
    "name": "ipython",
    "version": 3
   },
   "file_extension": ".py",
   "mimetype": "text/x-python",
   "name": "python",
   "nbconvert_exporter": "python",
   "pygments_lexer": "ipython3",
   "version": "3.10.11"
  }
 },
 "nbformat": 4,
 "nbformat_minor": 2
}
